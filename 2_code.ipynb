{
  "cells": [
    {
      "cell_type": "markdown",
      "metadata": {},
      "source": [
        "# code was executed in colab"
      ]
    },
    {
      "cell_type": "code",
      "execution_count": 7,
      "metadata": {
        "colab": {
          "base_uri": "https://localhost:8080/",
          "height": 219
        },
        "id": "Gr5xATolKZTq",
        "outputId": "3c72120c-838d-4a7d-fd5a-a7c40ab197c1"
      },
      "outputs": [
        {
          "data": {
            "text/html": [
              "\n",
              "            <div>\n",
              "                <p><b>SparkSession - in-memory</b></p>\n",
              "                \n",
              "        <div>\n",
              "            <p><b>SparkContext</b></p>\n",
              "\n",
              "            <p><a href=\"http://4ba2c22bbd4a:4040\">Spark UI</a></p>\n",
              "\n",
              "            <dl>\n",
              "              <dt>Version</dt>\n",
              "                <dd><code>v3.5.4</code></dd>\n",
              "              <dt>Master</dt>\n",
              "                <dd><code>local[*]</code></dd>\n",
              "              <dt>AppName</dt>\n",
              "                <dd><code>practice</code></dd>\n",
              "            </dl>\n",
              "        </div>\n",
              "        \n",
              "            </div>\n",
              "        "
            ],
            "text/plain": [
              "<pyspark.sql.session.SparkSession at 0x7c426ce4a110>"
            ]
          },
          "execution_count": 7,
          "metadata": {},
          "output_type": "execute_result"
        }
      ],
      "source": [
        "from pyspark.sql import SparkSession\n",
        "spark=SparkSession.builder.appName('practice').getOrCreate()\n",
        "spark"
      ]
    },
    {
      "cell_type": "markdown",
      "metadata": {},
      "source": [
        "#### below image is for local"
      ]
    },
    {
      "cell_type": "markdown",
      "metadata": {
        "id": "moyuXyyeM-Rm"
      },
      "source": [
        "![](imgs/sparkui.png)"
      ]
    },
    {
      "cell_type": "code",
      "execution_count": 10,
      "metadata": {
        "id": "LnBOtz_HOKxf"
      },
      "outputs": [],
      "source": [
        "from pyspark.sql.types import StructType, StructField, IntegerType, StringType, FloatType, DateType\n",
        "from datetime import datetime"
      ]
    },
    {
      "cell_type": "code",
      "execution_count": 11,
      "metadata": {
        "id": "hxuqhzulO1b9"
      },
      "outputs": [],
      "source": [
        "employee_schema = StructType([\n",
        "    StructField(\"emp_id\", IntegerType(), nullable=False),\n",
        "    StructField(\"name\", StringType(), nullable=False),\n",
        "    StructField(\"department\", StringType(), nullable=True),\n",
        "    StructField(\"salary\", FloatType(), nullable=True),\n",
        "    StructField(\"join_date\", DateType(), nullable=True)\n",
        "])\n"
      ]
    },
    {
      "cell_type": "code",
      "execution_count": 12,
      "metadata": {
        "id": "Y1nnfUwGPCfi"
      },
      "outputs": [],
      "source": [
        "employee_data = [\n",
        "    (1, \"John Doe\", \"Engineering\", 75000.0, datetime(2020, 6, 1)),\n",
        "    (2, \"Jane Smith\", \"HR\", 55000.0, datetime(2018, 9, 15)),\n",
        "    (3, \"Alice Johnson\", \"Engineering\", 80000.0, datetime(2021, 1, 12)),\n",
        "    (4, \"Bob Brown\", \"Marketing\", 62000.0, datetime(2019, 3, 20)),\n",
        "    (5, \"Charlie Black\", \"Engineering\", 72000.0, datetime(2022, 5, 5))\n",
        "]\n"
      ]
    },
    {
      "cell_type": "code",
      "execution_count": 16,
      "metadata": {
        "colab": {
          "base_uri": "https://localhost:8080/"
        },
        "id": "uF_gkJQKPHHU",
        "outputId": "32eb0138-c260-48c6-b7d0-32ffcdfeb8ba"
      },
      "outputs": [
        {
          "name": "stdout",
          "output_type": "stream",
          "text": [
            "+------+-------------+-----------+-------+----------+\n",
            "|emp_id|         name| department| salary| join_date|\n",
            "+------+-------------+-----------+-------+----------+\n",
            "|     1|     John Doe|Engineering|75000.0|2020-06-01|\n",
            "|     2|   Jane Smith|         HR|55000.0|2018-09-15|\n",
            "|     3|Alice Johnson|Engineering|80000.0|2021-01-12|\n",
            "|     4|    Bob Brown|  Marketing|62000.0|2019-03-20|\n",
            "|     5|Charlie Black|Engineering|72000.0|2022-05-05|\n",
            "+------+-------------+-----------+-------+----------+\n",
            "\n"
          ]
        }
      ],
      "source": [
        "df = spark.createDataFrame(employee_data, schema=employee_schema)\n",
        "\n",
        "# Show DataFrame (ACTION)\n",
        "df.show()\n"
      ]
    },
    {
      "cell_type": "code",
      "execution_count": 15,
      "metadata": {
        "colab": {
          "base_uri": "https://localhost:8080/"
        },
        "id": "8QFwqDLoPmMJ",
        "outputId": "e66970b7-d842-4f0e-de24-4882496b78ff"
      },
      "outputs": [
        {
          "data": {
            "text/plain": [
              "2"
            ]
          },
          "execution_count": 15,
          "metadata": {},
          "output_type": "execute_result"
        }
      ],
      "source": [
        "df.rdd.getNumPartitions()"
      ]
    },
    {
      "cell_type": "code",
      "execution_count": 14,
      "metadata": {
        "colab": {
          "base_uri": "https://localhost:8080/"
        },
        "id": "euEmcOhQPOfT",
        "outputId": "e173d28e-2c21-437d-e105-b09890ae2ed6"
      },
      "outputs": [
        {
          "name": "stdout",
          "output_type": "stream",
          "text": [
            "root\n",
            " |-- emp_id: integer (nullable = false)\n",
            " |-- name: string (nullable = false)\n",
            " |-- department: string (nullable = true)\n",
            " |-- salary: float (nullable = true)\n",
            " |-- join_date: date (nullable = true)\n",
            "\n"
          ]
        }
      ],
      "source": [
        "df.printSchema()"
      ]
    },
    {
      "cell_type": "code",
      "execution_count": 17,
      "metadata": {
        "id": "8WygJ_cpPU0i"
      },
      "outputs": [],
      "source": [
        "emp_final=df.where(\"salary>70000\")"
      ]
    },
    {
      "cell_type": "code",
      "execution_count": 18,
      "metadata": {
        "colab": {
          "base_uri": "https://localhost:8080/"
        },
        "id": "crhLyC0bQQTQ",
        "outputId": "30d2b491-2085-487d-e2d7-f67de1b731cc"
      },
      "outputs": [
        {
          "name": "stdout",
          "output_type": "stream",
          "text": [
            "+------+-------------+-----------+-------+----------+\n",
            "|emp_id|         name| department| salary| join_date|\n",
            "+------+-------------+-----------+-------+----------+\n",
            "|     1|     John Doe|Engineering|75000.0|2020-06-01|\n",
            "|     3|Alice Johnson|Engineering|80000.0|2021-01-12|\n",
            "|     5|Charlie Black|Engineering|72000.0|2022-05-05|\n",
            "+------+-------------+-----------+-------+----------+\n",
            "\n"
          ]
        }
      ],
      "source": [
        "emp_final.show()"
      ]
    },
    {
      "cell_type": "code",
      "execution_count": 19,
      "metadata": {
        "colab": {
          "base_uri": "https://localhost:8080/"
        },
        "id": "Hugwyyf8QS8H",
        "outputId": "28b9eb9c-09d0-4ca2-f0cb-cdc06364fd3e"
      },
      "outputs": [
        {
          "data": {
            "text/plain": [
              "2"
            ]
          },
          "execution_count": 19,
          "metadata": {},
          "output_type": "execute_result"
        }
      ],
      "source": [
        "emp_final.rdd.getNumPartitions()"
      ]
    },
    {
      "cell_type": "code",
      "execution_count": 20,
      "metadata": {
        "id": "F30MaRzKQbT8"
      },
      "outputs": [],
      "source": [
        "dd=df.where(\"salary>75000\")"
      ]
    },
    {
      "cell_type": "code",
      "execution_count": 21,
      "metadata": {
        "colab": {
          "base_uri": "https://localhost:8080/"
        },
        "id": "nFcSqe-hQjy3",
        "outputId": "9b8ced3f-0f97-42e5-ee68-5ef832ca29ef"
      },
      "outputs": [
        {
          "data": {
            "text/plain": [
              "2"
            ]
          },
          "execution_count": 21,
          "metadata": {},
          "output_type": "execute_result"
        }
      ],
      "source": [
        "dd.rdd.getNumPartitions()"
      ]
    },
    {
      "cell_type": "code",
      "execution_count": 22,
      "metadata": {
        "id": "qTXsHVBSQmA3"
      },
      "outputs": [],
      "source": [
        "dd.write.format(\"csv\").save(\"emp.csv\")"
      ]
    },
    {
      "cell_type": "code",
      "execution_count": null,
      "metadata": {
        "id": "ywo0vpwcQ135"
      },
      "outputs": [],
      "source": []
    }
  ],
  "metadata": {
    "colab": {
      "provenance": []
    },
    "kernelspec": {
      "display_name": "base",
      "language": "python",
      "name": "python3"
    },
    "language_info": {
      "codemirror_mode": {
        "name": "ipython",
        "version": 3
      },
      "file_extension": ".py",
      "mimetype": "text/x-python",
      "name": "python",
      "nbconvert_exporter": "python",
      "pygments_lexer": "ipython3",
      "version": "3.12.7"
    }
  },
  "nbformat": 4,
  "nbformat_minor": 0
}

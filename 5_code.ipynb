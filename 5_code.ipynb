{
  "nbformat": 4,
  "nbformat_minor": 0,
  "metadata": {
    "colab": {
      "provenance": []
    },
    "kernelspec": {
      "name": "python3",
      "display_name": "Python 3"
    },
    "language_info": {
      "name": "python"
    }
  },
  "cells": [
    {
      "cell_type": "code",
      "execution_count": 1,
      "metadata": {
        "colab": {
          "base_uri": "https://localhost:8080/",
          "height": 219
        },
        "id": "JzbElRnnfDoU",
        "outputId": "e7bd99ec-0609-41b7-811e-dc68303bbe57"
      },
      "outputs": [
        {
          "output_type": "execute_result",
          "data": {
            "text/plain": [
              "<pyspark.sql.session.SparkSession at 0x7ae31734dcd0>"
            ],
            "text/html": [
              "\n",
              "            <div>\n",
              "                <p><b>SparkSession - in-memory</b></p>\n",
              "                \n",
              "        <div>\n",
              "            <p><b>SparkContext</b></p>\n",
              "\n",
              "            <p><a href=\"http://4113dce3326b:4040\">Spark UI</a></p>\n",
              "\n",
              "            <dl>\n",
              "              <dt>Version</dt>\n",
              "                <dd><code>v3.5.4</code></dd>\n",
              "              <dt>Master</dt>\n",
              "                <dd><code>local[*]</code></dd>\n",
              "              <dt>AppName</dt>\n",
              "                <dd><code>practice</code></dd>\n",
              "            </dl>\n",
              "        </div>\n",
              "        \n",
              "            </div>\n",
              "        "
            ]
          },
          "metadata": {},
          "execution_count": 1
        }
      ],
      "source": [
        "from pyspark.sql import SparkSession\n",
        "spark=SparkSession.builder.appName('practice').getOrCreate()\n",
        "spark"
      ]
    },
    {
      "cell_type": "code",
      "source": [
        "from pyspark.sql.types import StructType, StructField, IntegerType, StringType, FloatType, DateType\n",
        "from datetime import datetime"
      ],
      "metadata": {
        "id": "bi3xPxntfHMJ"
      },
      "execution_count": 2,
      "outputs": []
    },
    {
      "cell_type": "code",
      "source": [
        "from pyspark.sql.functions import col,expr"
      ],
      "metadata": {
        "id": "CtNz9gsvfK__"
      },
      "execution_count": 3,
      "outputs": []
    },
    {
      "cell_type": "code",
      "source": [],
      "metadata": {
        "id": "T2zLpkWEfNR2"
      },
      "execution_count": null,
      "outputs": []
    },
    {
      "cell_type": "code",
      "source": [
        "employee_schema = StructType([\n",
        "    StructField(\"emp_id\", IntegerType(), nullable=False),\n",
        "    StructField(\"name\", StringType(), nullable=False),\n",
        "    StructField(\"department\", StringType(), nullable=True),\n",
        "    StructField(\"salary\", FloatType(), nullable=True),\n",
        "    StructField(\"join_date\", DateType(), nullable=True)\n",
        "])\n"
      ],
      "metadata": {
        "id": "hxuqhzulO1b9"
      },
      "execution_count": 4,
      "outputs": []
    },
    {
      "cell_type": "code",
      "source": [
        "employee_data = [\n",
        "    (1, \"John Doe\", \"Engineering\", 75000.0, datetime(2020, 6, 1)),\n",
        "    (2, \"Jane Smith\", \"HR\", 55000.0, datetime(2018, 9, 15)),\n",
        "    (3, \"Alice Johnson\", \"Engineering\", 80000.0, datetime(2021, 1, 12)),\n",
        "    (4, \"Bob Brown\", \"Marketing\", 62000.0, datetime(2019, 3, 20)),\n",
        "    (5, \"Charlie Black\", \"Engineering\", 72000.0, datetime(2022, 5, 5))\n",
        "]\n"
      ],
      "metadata": {
        "id": "s2ldJ36Cfk6c"
      },
      "execution_count": 6,
      "outputs": []
    },
    {
      "cell_type": "code",
      "source": [
        "df = spark.createDataFrame(employee_data, schema=employee_schema)\n",
        "\n",
        "# Show DataFrame (ACTION)\n",
        "df.show()\n"
      ],
      "metadata": {
        "colab": {
          "base_uri": "https://localhost:8080/"
        },
        "id": "D8xlG_c_fnCk",
        "outputId": "a428e2af-821b-4d7b-e8cc-c35f822306dd"
      },
      "execution_count": 7,
      "outputs": [
        {
          "output_type": "stream",
          "name": "stdout",
          "text": [
            "+------+-------------+-----------+-------+----------+\n",
            "|emp_id|         name| department| salary| join_date|\n",
            "+------+-------------+-----------+-------+----------+\n",
            "|     1|     John Doe|Engineering|75000.0|2020-06-01|\n",
            "|     2|   Jane Smith|         HR|55000.0|2018-09-15|\n",
            "|     3|Alice Johnson|Engineering|80000.0|2021-01-12|\n",
            "|     4|    Bob Brown|  Marketing|62000.0|2019-03-20|\n",
            "|     5|Charlie Black|Engineering|72000.0|2022-05-05|\n",
            "+------+-------------+-----------+-------+----------+\n",
            "\n"
          ]
        }
      ]
    },
    {
      "cell_type": "code",
      "source": [
        "from pyspark.sql.functions import col,cast"
      ],
      "metadata": {
        "id": "rW174AQUfvpg"
      },
      "execution_count": 8,
      "outputs": []
    },
    {
      "cell_type": "code",
      "source": [
        "dff=df.select(\"emp_id\",\"name\",\"department\",col(\"salary\").cast(\"double\"))\n",
        "dff.show()\n"
      ],
      "metadata": {
        "colab": {
          "base_uri": "https://localhost:8080/"
        },
        "id": "s9Wtj5jSgH3E",
        "outputId": "d3ec9466-c381-4544-d0cf-25a1624a0a72"
      },
      "execution_count": 9,
      "outputs": [
        {
          "output_type": "stream",
          "name": "stdout",
          "text": [
            "+------+-------------+-----------+-------+\n",
            "|emp_id|         name| department| salary|\n",
            "+------+-------------+-----------+-------+\n",
            "|     1|     John Doe|Engineering|75000.0|\n",
            "|     2|   Jane Smith|         HR|55000.0|\n",
            "|     3|Alice Johnson|Engineering|80000.0|\n",
            "|     4|    Bob Brown|  Marketing|62000.0|\n",
            "|     5|Charlie Black|Engineering|72000.0|\n",
            "+------+-------------+-----------+-------+\n",
            "\n"
          ]
        }
      ]
    },
    {
      "cell_type": "code",
      "source": [
        "dff.printSchema()\n"
      ],
      "metadata": {
        "colab": {
          "base_uri": "https://localhost:8080/"
        },
        "id": "mUKXSn7hgis_",
        "outputId": "a6bf0134-5d25-4202-9a0b-9068ea78e62c"
      },
      "execution_count": 10,
      "outputs": [
        {
          "output_type": "stream",
          "name": "stdout",
          "text": [
            "root\n",
            " |-- emp_id: integer (nullable = false)\n",
            " |-- name: string (nullable = false)\n",
            " |-- department: string (nullable = true)\n",
            " |-- salary: double (nullable = true)\n",
            "\n"
          ]
        }
      ]
    },
    {
      "cell_type": "code",
      "source": [
        "de=df.select(\"salary\",expr(\"salary*0.2 as tax\"))"
      ],
      "metadata": {
        "id": "E9zCaFFPgo1p"
      },
      "execution_count": 11,
      "outputs": []
    },
    {
      "cell_type": "code",
      "source": [
        "de.show()\n"
      ],
      "metadata": {
        "colab": {
          "base_uri": "https://localhost:8080/"
        },
        "id": "kwJ7gluKhRNg",
        "outputId": "112ca3d4-d999-4335-a5cd-d79b16f349f7"
      },
      "execution_count": 12,
      "outputs": [
        {
          "output_type": "stream",
          "name": "stdout",
          "text": [
            "+-------+-------+\n",
            "| salary|    tax|\n",
            "+-------+-------+\n",
            "|75000.0|15000.0|\n",
            "|55000.0|11000.0|\n",
            "|80000.0|16000.0|\n",
            "|62000.0|12400.0|\n",
            "|72000.0|14400.0|\n",
            "+-------+-------+\n",
            "\n"
          ]
        }
      ]
    },
    {
      "cell_type": "code",
      "source": [
        "dfe=df.withColumn(\"tax\",col(\"salary\")*0.2)\n",
        "dfe.show()"
      ],
      "metadata": {
        "colab": {
          "base_uri": "https://localhost:8080/"
        },
        "id": "Xjv8qWPDhSoo",
        "outputId": "6bf65998-1a2d-4d0a-a46d-f34739e9e653"
      },
      "execution_count": 13,
      "outputs": [
        {
          "output_type": "stream",
          "name": "stdout",
          "text": [
            "+------+-------------+-----------+-------+----------+-------+\n",
            "|emp_id|         name| department| salary| join_date|    tax|\n",
            "+------+-------------+-----------+-------+----------+-------+\n",
            "|     1|     John Doe|Engineering|75000.0|2020-06-01|15000.0|\n",
            "|     2|   Jane Smith|         HR|55000.0|2018-09-15|11000.0|\n",
            "|     3|Alice Johnson|Engineering|80000.0|2021-01-12|16000.0|\n",
            "|     4|    Bob Brown|  Marketing|62000.0|2019-03-20|12400.0|\n",
            "|     5|Charlie Black|Engineering|72000.0|2022-05-05|14400.0|\n",
            "+------+-------------+-----------+-------+----------+-------+\n",
            "\n"
          ]
        }
      ]
    },
    {
      "cell_type": "code",
      "source": [
        "from pyspark.sql.functions import lit"
      ],
      "metadata": {
        "id": "2qVu_06Zhi2x"
      },
      "execution_count": 14,
      "outputs": []
    },
    {
      "cell_type": "code",
      "source": [
        "emp_new_cols=df.withColumn(\"colone\",lit(1)).withColumn(\"coltwo\",lit(\"two\"))\n",
        "emp_new_cols.show()\n",
        "\n"
      ],
      "metadata": {
        "colab": {
          "base_uri": "https://localhost:8080/"
        },
        "id": "hjdUBUL0h8md",
        "outputId": "42686f0f-9f63-4294-9f84-b7ce2d33d085"
      },
      "execution_count": 15,
      "outputs": [
        {
          "output_type": "stream",
          "name": "stdout",
          "text": [
            "+------+-------------+-----------+-------+----------+------+------+\n",
            "|emp_id|         name| department| salary| join_date|colone|coltwo|\n",
            "+------+-------------+-----------+-------+----------+------+------+\n",
            "|     1|     John Doe|Engineering|75000.0|2020-06-01|     1|   two|\n",
            "|     2|   Jane Smith|         HR|55000.0|2018-09-15|     1|   two|\n",
            "|     3|Alice Johnson|Engineering|80000.0|2021-01-12|     1|   two|\n",
            "|     4|    Bob Brown|  Marketing|62000.0|2019-03-20|     1|   two|\n",
            "|     5|Charlie Black|Engineering|72000.0|2022-05-05|     1|   two|\n",
            "+------+-------------+-----------+-------+----------+------+------+\n",
            "\n"
          ]
        }
      ]
    },
    {
      "cell_type": "code",
      "source": [
        "emp_1=df.withColumnRenamed(\"emp_id\",\"employee_id\")\n",
        "emp_1.show()"
      ],
      "metadata": {
        "id": "94RfAjS4iK-B"
      },
      "execution_count": null,
      "outputs": []
    },
    {
      "cell_type": "code",
      "source": [
        "#  in spark we can have space in a column name\n",
        "#not recomended in prodiction env\n",
        "#emp=df.drop(\"coltwo\",\"colone\")"
      ],
      "metadata": {
        "id": "YPLvKOoWjygp"
      },
      "execution_count": 17,
      "outputs": []
    },
    {
      "cell_type": "code",
      "source": [
        "sd=df.where(\"salary>70000\")\n",
        "sd.show()"
      ],
      "metadata": {
        "id": "rFp6ERskj-6X"
      },
      "execution_count": null,
      "outputs": []
    },
    {
      "cell_type": "code",
      "source": [
        "sds=df.where(\"salary>70000\")\n",
        "s=sds.limit(5)\n",
        "s.show()\n",
        "#s.show(5)"
      ],
      "metadata": {
        "id": "DDhUdfmlk0nH"
      },
      "execution_count": null,
      "outputs": []
    },
    {
      "cell_type": "code",
      "source": [
        "#multiple column adding\n",
        "\n",
        "columns={\n",
        "    \"tax\":col(\"salary\")*0.2,\n",
        "    \"oneNumber\":lit(1),\n",
        "    \"columnTwo\":lit(\"two\")\n",
        "}"
      ],
      "metadata": {
        "id": "cH8ARDFwlJ8D"
      },
      "execution_count": 18,
      "outputs": []
    },
    {
      "cell_type": "code",
      "source": [
        "df.show()"
      ],
      "metadata": {
        "colab": {
          "base_uri": "https://localhost:8080/"
        },
        "id": "_fOwIeu8ljLK",
        "outputId": "55d64bfa-ae43-4e3c-e6c8-6d82492a292b"
      },
      "execution_count": 19,
      "outputs": [
        {
          "output_type": "stream",
          "name": "stdout",
          "text": [
            "+------+-------------+-----------+-------+----------+\n",
            "|emp_id|         name| department| salary| join_date|\n",
            "+------+-------------+-----------+-------+----------+\n",
            "|     1|     John Doe|Engineering|75000.0|2020-06-01|\n",
            "|     2|   Jane Smith|         HR|55000.0|2018-09-15|\n",
            "|     3|Alice Johnson|Engineering|80000.0|2021-01-12|\n",
            "|     4|    Bob Brown|  Marketing|62000.0|2019-03-20|\n",
            "|     5|Charlie Black|Engineering|72000.0|2022-05-05|\n",
            "+------+-------------+-----------+-------+----------+\n",
            "\n"
          ]
        }
      ]
    },
    {
      "cell_type": "code",
      "source": [
        "fin=df.withColumns(columns)\n",
        "fin.show()"
      ],
      "metadata": {
        "colab": {
          "base_uri": "https://localhost:8080/"
        },
        "id": "nf6Xdta2llGm",
        "outputId": "5247dd07-68f3-41b6-9c49-8f27861f04b1"
      },
      "execution_count": 21,
      "outputs": [
        {
          "output_type": "stream",
          "name": "stdout",
          "text": [
            "+------+-------------+-----------+-------+----------+-------+---------+---------+\n",
            "|emp_id|         name| department| salary| join_date|    tax|oneNumber|columnTwo|\n",
            "+------+-------------+-----------+-------+----------+-------+---------+---------+\n",
            "|     1|     John Doe|Engineering|75000.0|2020-06-01|15000.0|        1|      two|\n",
            "|     2|   Jane Smith|         HR|55000.0|2018-09-15|11000.0|        1|      two|\n",
            "|     3|Alice Johnson|Engineering|80000.0|2021-01-12|16000.0|        1|      two|\n",
            "|     4|    Bob Brown|  Marketing|62000.0|2019-03-20|12400.0|        1|      two|\n",
            "|     5|Charlie Black|Engineering|72000.0|2022-05-05|14400.0|        1|      two|\n",
            "+------+-------------+-----------+-------+----------+-------+---------+---------+\n",
            "\n"
          ]
        }
      ]
    },
    {
      "cell_type": "code",
      "source": [],
      "metadata": {
        "id": "1ekqBPNAlrFI"
      },
      "execution_count": null,
      "outputs": []
    }
  ]
}